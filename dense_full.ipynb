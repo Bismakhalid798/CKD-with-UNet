{
  "metadata": {
    "colab": {
      "provenance": []
    },
    "kernelspec": {
      "name": "python3",
      "display_name": "Python 3",
      "language": "python"
    },
    "language_info": {
      "name": "python",
      "version": "3.7.12",
      "mimetype": "text/x-python",
      "codemirror_mode": {
        "name": "ipython",
        "version": 3
      },
      "pygments_lexer": "ipython3",
      "nbconvert_exporter": "python",
      "file_extension": ".py"
    },
    "accelerator": "GPU",
    "gpuClass": "standard"
  },
  "nbformat_minor": 0,
  "nbformat": 4,
  "cells": [
    {
      "cell_type": "markdown",
      "source": [
        "Bisma Khalid\n",
        "\n",
        "19I-1797\n",
        "\n",
        "AI - K\n"
      ],
      "metadata": {
        "id": "sW_pQYXxVnRS"
      }
    },
    {
      "cell_type": "markdown",
      "source": [
        "Assignment 3"
      ],
      "metadata": {
        "id": "El-VXPZRVtxc"
      }
    },
    {
      "cell_type": "code",
      "source": [
        "import os\n",
        "from glob import glob\n",
        "from sklearn.model_selection import train_test_split\n",
        "from tensorflow.keras.layers import Conv2D, BatchNormalization, Activation, MaxPool2D, Conv2DTranspose, Concatenate, Input\n",
        "from tensorflow.keras.models import Model\n",
        "\n",
        "from tensorflow.keras.callbacks import ModelCheckpoint, CSVLogger, ReduceLROnPlateau, EarlyStopping, TensorBoard\n",
        "from tensorflow.keras.optimizers import Adam\n",
        "from tensorflow.keras.metrics import Recall, Precision,Accuracy\n",
        "\n",
        "os.environ[\"TF_CPP_MIN_LOG_LEVEL\"] = \"2\"\n",
        "import numpy as np\n",
        "import cv2\n",
        "from glob import glob\n",
        "from sklearn.utils import shuffle\n",
        "import tensorflow as tf"
      ],
      "metadata": {
        "id": "EOv6Wr2PwfEV",
        "execution": {
          "iopub.status.busy": "2023-01-07T01:22:55.206642Z",
          "iopub.execute_input": "2023-01-07T01:22:55.207778Z",
          "iopub.status.idle": "2023-01-07T01:22:55.216675Z",
          "shell.execute_reply.started": "2023-01-07T01:22:55.207733Z",
          "shell.execute_reply": "2023-01-07T01:22:55.215538Z"
        },
        "trusted": true
      },
      "execution_count": null,
      "outputs": []
    },
    {
      "cell_type": "code",
      "source": [
        "H=256\n",
        "W=256\n",
        "dim=(H,W)"
      ],
      "metadata": {
        "id": "X38RAMHRYcaU",
        "execution": {
          "iopub.status.busy": "2023-01-07T01:22:55.218913Z",
          "iopub.execute_input": "2023-01-07T01:22:55.219308Z",
          "iopub.status.idle": "2023-01-07T01:22:55.226089Z",
          "shell.execute_reply.started": "2023-01-07T01:22:55.219269Z",
          "shell.execute_reply": "2023-01-07T01:22:55.225216Z"
        },
        "trusted": true
      },
      "execution_count": null,
      "outputs": []
    },
    {
      "cell_type": "markdown",
      "source": [
        "\n",
        "Defining the Structure of the Model"
      ],
      "metadata": {
        "id": "5SHu5-AeVzwa"
      }
    },
    {
      "cell_type": "code",
      "source": [
        "#This convolution part will also be included in encoder and decoder part of the network\n",
        "def Conv_Block(input,num_of_filter):\n",
        "    x=Conv2D(num_of_filter,3,padding=\"same\")(input)\n",
        "    x=BatchNormalization()(x)\n",
        "    x=Activation('ReLU')(x)\n",
        "\n",
        "    x=Conv2D(num_of_filter,3,padding=\"same\")(input)\n",
        "    x=BatchNormalization()(x)\n",
        "    x=Activation('ReLU')(x)\n",
        "  \n",
        "    return x\n",
        "\n",
        "\n",
        "def Encoder(input,num_of_filter):\n",
        "    x = Conv_Block(input, num_of_filter) #Skip connection\n",
        "    p = MaxPool2D((2, 2))(x)  #Feature selection\n",
        "    return x, p\n",
        "\n",
        "def Decoder(input, skip_features, num_of_filter):\n",
        "    x = Conv2DTranspose(num_of_filter, (2, 2), strides=2, padding=\"same\")(input)\n",
        "    x = Concatenate()([x, skip_features])\n",
        "    x = Conv_Block(x, num_of_filter)\n",
        "    return x"
      ],
      "metadata": {
        "id": "0Mz0TB58ugvV",
        "execution": {
          "iopub.status.busy": "2023-01-07T01:22:55.227585Z",
          "iopub.execute_input": "2023-01-07T01:22:55.228323Z",
          "iopub.status.idle": "2023-01-07T01:22:55.236897Z",
          "shell.execute_reply.started": "2023-01-07T01:22:55.228289Z",
          "shell.execute_reply": "2023-01-07T01:22:55.235843Z"
        },
        "trusted": true
      },
      "execution_count": null,
      "outputs": []
    },
    {
      "cell_type": "markdown",
      "source": [
        "Customized Encoder - Decoder Model"
      ],
      "metadata": {
        "id": "QPvfIaX5WAHU"
      }
    },
    {
      "cell_type": "code",
      "source": [
        "def Model_Build(input_shape):\n",
        "    inputs=Input(input_shape)\n",
        "    #as you go down in the encoder,resolution decreases , number of filters doubles\n",
        "    s1,p1=Encoder(inputs,16)\n",
        "    s2,p2=Encoder(p1,32)\n",
        "    s3,p3=Encoder(p2,64)\n",
        "    s4,p4=Encoder(p3,128)\n",
        "    s5,p5=Encoder(p4,256)\n",
        "    #s6,p6=Encoder(p5,128)\n",
        "\n",
        "    b1=Conv_Block(p5,512)\n",
        "\n",
        "    d1 = Decoder(b1, s5, 256) \n",
        "    d2 = Decoder(d1, s4, 128) \n",
        "    d3 = Decoder(d2, s3, 64)\n",
        "    d4 = Decoder(d3, s2, 32)\n",
        "    d5 = Decoder(d4, s1, 16)\n",
        "#     d6 = Decoder(d5, s1, 4)\n",
        "\n",
        "    outputs = Conv2D(1, 1, padding=\"same\", activation=\"sigmoid\")(d5)  #our data is in grayscale, gives 0,1 output\n",
        "\n",
        "    model = Model(inputs, outputs, name=\"Encoder-Decoder\")\n",
        "    return model\n"
      ],
      "metadata": {
        "id": "RO_TwOgvwXDt",
        "execution": {
          "iopub.status.busy": "2023-01-07T01:22:55.240151Z",
          "iopub.execute_input": "2023-01-07T01:22:55.240705Z",
          "iopub.status.idle": "2023-01-07T01:22:55.248966Z",
          "shell.execute_reply.started": "2023-01-07T01:22:55.240580Z",
          "shell.execute_reply": "2023-01-07T01:22:55.247997Z"
        },
        "trusted": true
      },
      "execution_count": null,
      "outputs": []
    },
    {
      "cell_type": "code",
      "source": [
        "input_shape = (256, 256, 3)\n",
        "model = Model_Build(input_shape)\n",
        "model.summary()"
      ],
      "metadata": {
        "colab": {
          "base_uri": "https://localhost:8080/"
        },
        "id": "CaYmM2UiwxHI",
        "outputId": "42a849da-890f-4015-b311-45fa4ec45cf5",
        "execution": {
          "iopub.status.busy": "2023-01-07T01:22:55.250400Z",
          "iopub.execute_input": "2023-01-07T01:22:55.251009Z",
          "iopub.status.idle": "2023-01-07T01:22:55.734673Z",
          "shell.execute_reply.started": "2023-01-07T01:22:55.250975Z",
          "shell.execute_reply": "2023-01-07T01:22:55.733619Z"
        },
        "trusted": true
      },
      "execution_count": null,
      "outputs": [
        {
          "name": "stdout",
          "text": "Model: \"Encoder-Decoder\"\n__________________________________________________________________________________________________\nLayer (type)                    Output Shape         Param #     Connected to                     \n==================================================================================================\ninput_3 (InputLayer)            [(None, 256, 256, 3) 0                                            \n__________________________________________________________________________________________________\nconv2d_47 (Conv2D)              (None, 256, 256, 16) 448         input_3[0][0]                    \n__________________________________________________________________________________________________\nbatch_normalization_45 (BatchNo (None, 256, 256, 16) 64          conv2d_47[0][0]                  \n__________________________________________________________________________________________________\nactivation_45 (Activation)      (None, 256, 256, 16) 0           batch_normalization_45[0][0]     \n__________________________________________________________________________________________________\nmax_pooling2d_10 (MaxPooling2D) (None, 128, 128, 16) 0           activation_45[0][0]              \n__________________________________________________________________________________________________\nconv2d_49 (Conv2D)              (None, 128, 128, 32) 4640        max_pooling2d_10[0][0]           \n__________________________________________________________________________________________________\nbatch_normalization_47 (BatchNo (None, 128, 128, 32) 128         conv2d_49[0][0]                  \n__________________________________________________________________________________________________\nactivation_47 (Activation)      (None, 128, 128, 32) 0           batch_normalization_47[0][0]     \n__________________________________________________________________________________________________\nmax_pooling2d_11 (MaxPooling2D) (None, 64, 64, 32)   0           activation_47[0][0]              \n__________________________________________________________________________________________________\nconv2d_51 (Conv2D)              (None, 64, 64, 64)   18496       max_pooling2d_11[0][0]           \n__________________________________________________________________________________________________\nbatch_normalization_49 (BatchNo (None, 64, 64, 64)   256         conv2d_51[0][0]                  \n__________________________________________________________________________________________________\nactivation_49 (Activation)      (None, 64, 64, 64)   0           batch_normalization_49[0][0]     \n__________________________________________________________________________________________________\nmax_pooling2d_12 (MaxPooling2D) (None, 32, 32, 64)   0           activation_49[0][0]              \n__________________________________________________________________________________________________\nconv2d_53 (Conv2D)              (None, 32, 32, 128)  73856       max_pooling2d_12[0][0]           \n__________________________________________________________________________________________________\nbatch_normalization_51 (BatchNo (None, 32, 32, 128)  512         conv2d_53[0][0]                  \n__________________________________________________________________________________________________\nactivation_51 (Activation)      (None, 32, 32, 128)  0           batch_normalization_51[0][0]     \n__________________________________________________________________________________________________\nmax_pooling2d_13 (MaxPooling2D) (None, 16, 16, 128)  0           activation_51[0][0]              \n__________________________________________________________________________________________________\nconv2d_55 (Conv2D)              (None, 16, 16, 256)  295168      max_pooling2d_13[0][0]           \n__________________________________________________________________________________________________\nbatch_normalization_53 (BatchNo (None, 16, 16, 256)  1024        conv2d_55[0][0]                  \n__________________________________________________________________________________________________\nactivation_53 (Activation)      (None, 16, 16, 256)  0           batch_normalization_53[0][0]     \n__________________________________________________________________________________________________\nmax_pooling2d_14 (MaxPooling2D) (None, 8, 8, 256)    0           activation_53[0][0]              \n__________________________________________________________________________________________________\nconv2d_57 (Conv2D)              (None, 8, 8, 512)    1180160     max_pooling2d_14[0][0]           \n__________________________________________________________________________________________________\nbatch_normalization_55 (BatchNo (None, 8, 8, 512)    2048        conv2d_57[0][0]                  \n__________________________________________________________________________________________________\nactivation_55 (Activation)      (None, 8, 8, 512)    0           batch_normalization_55[0][0]     \n__________________________________________________________________________________________________\nconv2d_transpose_10 (Conv2DTran (None, 16, 16, 256)  524544      activation_55[0][0]              \n__________________________________________________________________________________________________\nconcatenate_10 (Concatenate)    (None, 16, 16, 512)  0           conv2d_transpose_10[0][0]        \n                                                                 activation_53[0][0]              \n__________________________________________________________________________________________________\nconv2d_59 (Conv2D)              (None, 16, 16, 256)  1179904     concatenate_10[0][0]             \n__________________________________________________________________________________________________\nbatch_normalization_57 (BatchNo (None, 16, 16, 256)  1024        conv2d_59[0][0]                  \n__________________________________________________________________________________________________\nactivation_57 (Activation)      (None, 16, 16, 256)  0           batch_normalization_57[0][0]     \n__________________________________________________________________________________________________\nconv2d_transpose_11 (Conv2DTran (None, 32, 32, 128)  131200      activation_57[0][0]              \n__________________________________________________________________________________________________\nconcatenate_11 (Concatenate)    (None, 32, 32, 256)  0           conv2d_transpose_11[0][0]        \n                                                                 activation_51[0][0]              \n__________________________________________________________________________________________________\nconv2d_61 (Conv2D)              (None, 32, 32, 128)  295040      concatenate_11[0][0]             \n__________________________________________________________________________________________________\nbatch_normalization_59 (BatchNo (None, 32, 32, 128)  512         conv2d_61[0][0]                  \n__________________________________________________________________________________________________\nactivation_59 (Activation)      (None, 32, 32, 128)  0           batch_normalization_59[0][0]     \n__________________________________________________________________________________________________\nconv2d_transpose_12 (Conv2DTran (None, 64, 64, 64)   32832       activation_59[0][0]              \n__________________________________________________________________________________________________\nconcatenate_12 (Concatenate)    (None, 64, 64, 128)  0           conv2d_transpose_12[0][0]        \n                                                                 activation_49[0][0]              \n__________________________________________________________________________________________________\nconv2d_63 (Conv2D)              (None, 64, 64, 64)   73792       concatenate_12[0][0]             \n__________________________________________________________________________________________________\nbatch_normalization_61 (BatchNo (None, 64, 64, 64)   256         conv2d_63[0][0]                  \n__________________________________________________________________________________________________\nactivation_61 (Activation)      (None, 64, 64, 64)   0           batch_normalization_61[0][0]     \n__________________________________________________________________________________________________\nconv2d_transpose_13 (Conv2DTran (None, 128, 128, 32) 8224        activation_61[0][0]              \n__________________________________________________________________________________________________\nconcatenate_13 (Concatenate)    (None, 128, 128, 64) 0           conv2d_transpose_13[0][0]        \n                                                                 activation_47[0][0]              \n__________________________________________________________________________________________________\nconv2d_65 (Conv2D)              (None, 128, 128, 32) 18464       concatenate_13[0][0]             \n__________________________________________________________________________________________________\nbatch_normalization_63 (BatchNo (None, 128, 128, 32) 128         conv2d_65[0][0]                  \n__________________________________________________________________________________________________\nactivation_63 (Activation)      (None, 128, 128, 32) 0           batch_normalization_63[0][0]     \n__________________________________________________________________________________________________\nconv2d_transpose_14 (Conv2DTran (None, 256, 256, 15) 1935        activation_63[0][0]              \n__________________________________________________________________________________________________\nconcatenate_14 (Concatenate)    (None, 256, 256, 31) 0           conv2d_transpose_14[0][0]        \n                                                                 activation_45[0][0]              \n__________________________________________________________________________________________________\nconv2d_67 (Conv2D)              (None, 256, 256, 15) 4200        concatenate_14[0][0]             \n__________________________________________________________________________________________________\nbatch_normalization_65 (BatchNo (None, 256, 256, 15) 60          conv2d_67[0][0]                  \n__________________________________________________________________________________________________\nactivation_65 (Activation)      (None, 256, 256, 15) 0           batch_normalization_65[0][0]     \n__________________________________________________________________________________________________\nconv2d_68 (Conv2D)              (None, 256, 256, 1)  16          activation_65[0][0]              \n==================================================================================================\nTotal params: 3,848,931\nTrainable params: 3,845,925\nNon-trainable params: 3,006\n__________________________________________________________________________________________________\n",
          "output_type": "stream"
        }
      ]
    },
    {
      "cell_type": "code",
      "source": [
        "np.random.seed(42)\n",
        "tf.random.set_seed(42)\n",
        "batch_size = 32\n",
        "lr = 0.01\n",
        "num_epochs = 15"
      ],
      "metadata": {
        "id": "Up0Z1ovywxJH",
        "execution": {
          "iopub.status.busy": "2023-01-07T01:22:55.736055Z",
          "iopub.execute_input": "2023-01-07T01:22:55.736853Z",
          "iopub.status.idle": "2023-01-07T01:22:55.750279Z",
          "shell.execute_reply.started": "2023-01-07T01:22:55.736816Z",
          "shell.execute_reply": "2023-01-07T01:22:55.749252Z"
        },
        "trusted": true
      },
      "execution_count": null,
      "outputs": []
    },
    {
      "cell_type": "markdown",
      "source": [
        "Metrices"
      ],
      "metadata": {
        "id": "e1do0DKjWGzj"
      }
    },
    {
      "cell_type": "code",
      "source": [
        "import numpy as np\n",
        "import tensorflow as tf\n",
        "from tensorflow.keras import backend as K\n",
        "\n",
        "def iou(y_true, y_pred):\n",
        "    def f(y_true, y_pred):\n",
        "        intersection = (y_true * y_pred).sum()\n",
        "        union = y_true.sum() + y_pred.sum() - intersection\n",
        "        x = (intersection + 1e-15) / (union + 1e-15)\n",
        "        x = x.astype(np.float32)\n",
        "        return x\n",
        "    return tf.numpy_function(f, [y_true, y_pred], tf.float32)\n",
        "\n",
        "smooth = 1e-15\n",
        "def dice_coef(y_true, y_pred):\n",
        "    y_true = tf.keras.layers.Flatten()(y_true)\n",
        "    y_pred = tf.keras.layers.Flatten()(y_pred)\n",
        "    intersection = tf.reduce_sum(y_true * y_pred)\n",
        "    return (2. * intersection + smooth) / (tf.reduce_sum(y_true) + tf.reduce_sum(y_pred) + smooth)\n",
        "\n",
        "def dice_loss(y_true, y_pred):\n",
        "    return 1.0 - dice_coef(y_true, y_pred)"
      ],
      "metadata": {
        "id": "oqwQdF6GxxkA",
        "execution": {
          "iopub.status.busy": "2023-01-07T01:22:55.753076Z",
          "iopub.execute_input": "2023-01-07T01:22:55.753459Z",
          "iopub.status.idle": "2023-01-07T01:22:55.764035Z",
          "shell.execute_reply.started": "2023-01-07T01:22:55.753432Z",
          "shell.execute_reply": "2023-01-07T01:22:55.762857Z"
        },
        "trusted": true
      },
      "execution_count": null,
      "outputs": []
    },
    {
      "cell_type": "code",
      "source": [
        "model_weights = os.path.join(\"/kaggle/working/\", \"model_dense.h5\")\n",
        "csv_weights = os.path.join(\"/kaggle/working/\", \"bisma_dense.csv\")\n",
        " \n",
        "\n",
        "callbacks = [\n",
        "    ModelCheckpoint(model_weights, verbose=1, save_best_only=True),\n",
        "    ReduceLROnPlateau(monitor='val_loss', factor=0.00001, patience=2, min_lr=1e-7, verbose=1),\n",
        "    CSVLogger(csv_weights),\n",
        "    TensorBoard(),\n",
        "    EarlyStopping(monitor='val_loss', patience=3, restore_best_weights=False),\n",
        "    ]"
      ],
      "metadata": {
        "id": "wL0gVqBvwxPd",
        "execution": {
          "iopub.status.busy": "2023-01-07T01:22:55.767835Z",
          "iopub.execute_input": "2023-01-07T01:22:55.768162Z",
          "iopub.status.idle": "2023-01-07T01:22:56.053209Z",
          "shell.execute_reply.started": "2023-01-07T01:22:55.768104Z",
          "shell.execute_reply": "2023-01-07T01:22:56.052162Z"
        },
        "trusted": true
      },
      "execution_count": null,
      "outputs": []
    },
    {
      "cell_type": "markdown",
      "source": [
        "Data Loading"
      ],
      "metadata": {
        "id": "dLrXYwElWPNn"
      }
    },
    {
      "cell_type": "code",
      "source": [
        "# path=\"/content/drive/MyDrive/FYP/Dataset/PNG_Slices_Segmented\"\n",
        "path=\"/kaggle/input/kidneykits19/PNG_Slices_Segmented/PNG_Slices_Segmented\""
      ],
      "metadata": {
        "id": "_mUC5cE7z2Fs",
        "execution": {
          "iopub.status.busy": "2023-01-07T01:22:56.055344Z",
          "iopub.execute_input": "2023-01-07T01:22:56.055727Z",
          "iopub.status.idle": "2023-01-07T01:22:56.060625Z",
          "shell.execute_reply.started": "2023-01-07T01:22:56.055698Z",
          "shell.execute_reply": "2023-01-07T01:22:56.059485Z"
        },
        "trusted": true
      },
      "execution_count": null,
      "outputs": []
    },
    {
      "cell_type": "code",
      "source": [
        "def load_data(file_path):\n",
        "    #Loading the image files\n",
        "    images = sorted(glob(f\"{file_path}/*/Images/*.png\"))\n",
        "    segmentations=sorted(glob(f\"{file_path}/*/Segmentation/*.png\"))\n",
        "    print(len(images),len(segmentations))\n",
        "\n",
        "\n",
        "  # #Spliting the data into training and testing using builtin libraries\n",
        "    split=0.2\n",
        "    split_size = int(len(images) * split)\n",
        "    train_x, valid_x = train_test_split(images, test_size=split, random_state=42)\n",
        "    train_y, valid_y = train_test_split(segmentations, test_size=split, random_state=42)\n",
        "\n",
        "    return (train_x, train_y), (valid_x, valid_y)\n",
        " \n",
        "\n",
        "\n",
        "def read_image(path):\n",
        "    path = path.decode()\n",
        "    x = cv2.imread(path, cv2.IMREAD_COLOR)\n",
        "    x=cv2.resize(x, dim)\n",
        "    x = x/255.0\n",
        "    x = x.astype(np.float32)\n",
        "    return x\n",
        "\n",
        "def read_mask(path):\n",
        "    path = path.decode()\n",
        "    x = cv2.imread(path, cv2.IMREAD_GRAYSCALE)\n",
        "    x=cv2.resize(x, dim)\n",
        "    x = x/255.0\n",
        "    x = x > 0.5\n",
        "    x = x.astype(np.float32)\n",
        "    x = np.expand_dims(x, axis=-1)\n",
        "    return x\n",
        "\n",
        "def shuffling(x, y):\n",
        "    x, y = shuffle(x, y, random_state=42)\n",
        "    return x, y\n",
        "\n",
        "def tf_parse(x, y):\n",
        "    def _parse(x, y):\n",
        "        x = read_image(x)\n",
        "        y = read_mask(y)\n",
        "        return x, y\n",
        "\n",
        "    x, y = tf.numpy_function(_parse, [x, y], [tf.float32, tf.float32])\n",
        "    x.set_shape([H, W, 3])\n",
        "    y.set_shape([H, W, 1])\n",
        "    return x, y\n",
        "\n",
        "def tf_dataset(x, y, batch=10):\n",
        "    dataset = tf.data.Dataset.from_tensor_slices((x, y))\n",
        "    dataset = dataset.map(tf_parse)\n",
        "    dataset = dataset.batch(batch)\n",
        "    dataset = dataset.prefetch(10)\n",
        "    return dataset"
      ],
      "metadata": {
        "id": "xCO_egG3z2Jy",
        "execution": {
          "iopub.status.busy": "2023-01-07T01:22:56.062487Z",
          "iopub.execute_input": "2023-01-07T01:22:56.063343Z",
          "iopub.status.idle": "2023-01-07T01:22:56.078155Z",
          "shell.execute_reply.started": "2023-01-07T01:22:56.063305Z",
          "shell.execute_reply": "2023-01-07T01:22:56.077041Z"
        },
        "trusted": true
      },
      "execution_count": null,
      "outputs": []
    },
    {
      "cell_type": "code",
      "source": [
        "(train_x, train_y), (valid_x, valid_y) = load_data(path)\n",
        "print(len(train_x),len(train_y))\n",
        "print(len(valid_x),len(valid_y))\n",
        "train_x, train_y = shuffling(train_x, train_y)"
      ],
      "metadata": {
        "colab": {
          "base_uri": "https://localhost:8080/"
        },
        "id": "JgI-krHgz2Mj",
        "outputId": "e7c62772-42c2-4b42-de10-e3ddbbae4239",
        "execution": {
          "iopub.status.busy": "2023-01-07T01:22:56.079919Z",
          "iopub.execute_input": "2023-01-07T01:22:56.080330Z",
          "iopub.status.idle": "2023-01-07T01:22:56.617018Z",
          "shell.execute_reply.started": "2023-01-07T01:22:56.080295Z",
          "shell.execute_reply": "2023-01-07T01:22:56.615995Z"
        },
        "trusted": true
      },
      "execution_count": null,
      "outputs": [
        {
          "name": "stdout",
          "text": "45079 45079\n36063 36063\n9016 9016\n",
          "output_type": "stream"
        }
      ]
    },
    {
      "cell_type": "code",
      "source": [
        "batch_size = 14\n",
        "train_dataset = tf_dataset(train_x, train_y, batch=batch_size)\n",
        "valid_dataset = tf_dataset(valid_x, valid_y, batch=batch_size)"
      ],
      "metadata": {
        "id": "GsZTZseY01Tm",
        "execution": {
          "iopub.status.busy": "2023-01-07T01:22:56.618631Z",
          "iopub.execute_input": "2023-01-07T01:22:56.619278Z",
          "iopub.status.idle": "2023-01-07T01:22:56.905602Z",
          "shell.execute_reply.started": "2023-01-07T01:22:56.619240Z",
          "shell.execute_reply": "2023-01-07T01:22:56.904580Z"
        },
        "trusted": true
      },
      "execution_count": null,
      "outputs": []
    },
    {
      "cell_type": "markdown",
      "source": [
        "Model Training"
      ],
      "metadata": {
        "id": "AP6Fx2pNWUzV"
      }
    },
    {
      "cell_type": "code",
      "source": [
        "# model = Model_Build((512, 512, 3))\n",
        "# metrics = [dice_coef, iou, Recall(), Precision(),Accuracy()]\n",
        "mse = tf.keras.losses.MeanSquaredError()\n",
        "metrics = [dice_coef, iou,Accuracy()]\n",
        "model.compile(loss=dice_loss, optimizer=Adam(lr), metrics=metrics)"
      ],
      "metadata": {
        "id": "ZyC1PFTTwxNA",
        "execution": {
          "iopub.status.busy": "2023-01-07T01:22:56.907303Z",
          "iopub.execute_input": "2023-01-07T01:22:56.907672Z",
          "iopub.status.idle": "2023-01-07T01:22:56.922357Z",
          "shell.execute_reply.started": "2023-01-07T01:22:56.907625Z",
          "shell.execute_reply": "2023-01-07T01:22:56.921508Z"
        },
        "trusted": true
      },
      "execution_count": null,
      "outputs": []
    },
    {
      "cell_type": "code",
      "source": [
        "# model.fit(train_dataset,epochs=num_epochs,validation_data=valid_dataset,shuffle=False)\n",
        "model.fit(train_dataset,epochs=num_epochs,validation_data=valid_dataset,callbacks=callbacks,shuffle=False )"
      ],
      "metadata": {
        "colab": {
          "base_uri": "https://localhost:8080/",
          "height": 1000
        },
        "id": "uqjlNCaLyXWi",
        "outputId": "f0db5719-80d5-422b-c7f6-ce0e04a9f991",
        "execution": {
          "iopub.status.busy": "2023-01-07T01:22:56.923958Z",
          "iopub.execute_input": "2023-01-07T01:22:56.924337Z",
          "iopub.status.idle": "2023-01-07T01:51:04.942604Z",
          "shell.execute_reply.started": "2023-01-07T01:22:56.924302Z",
          "shell.execute_reply": "2023-01-07T01:51:04.941164Z"
        },
        "trusted": true
      },
      "execution_count": null,
      "outputs": [
        {
          "name": "stdout",
          "text": "Epoch 1/15\n2576/2576 [==============================] - 559s 214ms/step - loss: 0.2359 - dice_coef: 0.7641 - iou: 0.6454 - accuracy: 0.0055 - val_loss: 0.1378 - val_dice_coef: 0.8622 - val_iou: 0.7692 - val_accuracy: 0.0151\n\nEpoch 00001: val_loss improved from inf to 0.13780, saving model to /kaggle/working/model_dense.h5\nEpoch 2/15\n2576/2576 [==============================] - 340s 132ms/step - loss: 0.1032 - dice_coef: 0.8968 - iou: 0.8232 - accuracy: 0.0281 - val_loss: 0.1866 - val_dice_coef: 0.8134 - val_iou: 0.6988 - val_accuracy: 0.0316\n\nEpoch 00002: val_loss did not improve from 0.13780\nEpoch 3/15\n2576/2576 [==============================] - 337s 131ms/step - loss: 0.0627 - dice_coef: 0.9373 - iou: 0.8873 - accuracy: 0.0663 - val_loss: 0.0629 - val_dice_coef: 0.9371 - val_iou: 0.8862 - val_accuracy: 0.1631\n\nEpoch 00003: val_loss improved from 0.13780 to 0.06288, saving model to /kaggle/working/model_dense.h5\nEpoch 4/15\n2576/2576 [==============================] - 337s 131ms/step - loss: 0.0495 - dice_coef: 0.9505 - iou: 0.9097 - accuracy: 0.1801 - val_loss: 0.0408 - val_dice_coef: 0.9592 - val_iou: 0.9247 - val_accuracy: 0.2689\n\nEpoch 00004: val_loss improved from 0.06288 to 0.04082, saving model to /kaggle/working/model_dense.h5\nEpoch 5/15\n 255/2576 [=>............................] - ETA: 4:07 - loss: 0.0458 - dice_coef: 0.9542 - iou: 0.9168 - accuracy: 0.3087",
          "output_type": "stream"
        },
        {
          "traceback": [
            "\u001b[0;31m---------------------------------------------------------------------------\u001b[0m",
            "\u001b[0;31mKeyboardInterrupt\u001b[0m                         Traceback (most recent call last)",
            "\u001b[0;32m/tmp/ipykernel_23/1692890917.py\u001b[0m in \u001b[0;36m<module>\u001b[0;34m\u001b[0m\n\u001b[1;32m      1\u001b[0m \u001b[0;31m# model.fit(train_dataset,epochs=num_epochs,validation_data=valid_dataset,shuffle=False)\u001b[0m\u001b[0;34m\u001b[0m\u001b[0;34m\u001b[0m\u001b[0;34m\u001b[0m\u001b[0m\n\u001b[0;32m----> 2\u001b[0;31m \u001b[0mmodel\u001b[0m\u001b[0;34m.\u001b[0m\u001b[0mfit\u001b[0m\u001b[0;34m(\u001b[0m\u001b[0mtrain_dataset\u001b[0m\u001b[0;34m,\u001b[0m\u001b[0mepochs\u001b[0m\u001b[0;34m=\u001b[0m\u001b[0mnum_epochs\u001b[0m\u001b[0;34m,\u001b[0m\u001b[0mvalidation_data\u001b[0m\u001b[0;34m=\u001b[0m\u001b[0mvalid_dataset\u001b[0m\u001b[0;34m,\u001b[0m\u001b[0mcallbacks\u001b[0m\u001b[0;34m=\u001b[0m\u001b[0mcallbacks\u001b[0m\u001b[0;34m,\u001b[0m\u001b[0mshuffle\u001b[0m\u001b[0;34m=\u001b[0m\u001b[0;32mFalse\u001b[0m \u001b[0;34m)\u001b[0m\u001b[0;34m\u001b[0m\u001b[0;34m\u001b[0m\u001b[0m\n\u001b[0m",
            "\u001b[0;32m/opt/conda/lib/python3.7/site-packages/keras/engine/training.py\u001b[0m in \u001b[0;36mfit\u001b[0;34m(self, x, y, batch_size, epochs, verbose, callbacks, validation_split, validation_data, shuffle, class_weight, sample_weight, initial_epoch, steps_per_epoch, validation_steps, validation_batch_size, validation_freq, max_queue_size, workers, use_multiprocessing)\u001b[0m\n\u001b[1;32m   1182\u001b[0m                 _r=1):\n\u001b[1;32m   1183\u001b[0m               \u001b[0mcallbacks\u001b[0m\u001b[0;34m.\u001b[0m\u001b[0mon_train_batch_begin\u001b[0m\u001b[0;34m(\u001b[0m\u001b[0mstep\u001b[0m\u001b[0;34m)\u001b[0m\u001b[0;34m\u001b[0m\u001b[0;34m\u001b[0m\u001b[0m\n\u001b[0;32m-> 1184\u001b[0;31m               \u001b[0mtmp_logs\u001b[0m \u001b[0;34m=\u001b[0m \u001b[0mself\u001b[0m\u001b[0;34m.\u001b[0m\u001b[0mtrain_function\u001b[0m\u001b[0;34m(\u001b[0m\u001b[0miterator\u001b[0m\u001b[0;34m)\u001b[0m\u001b[0;34m\u001b[0m\u001b[0;34m\u001b[0m\u001b[0m\n\u001b[0m\u001b[1;32m   1185\u001b[0m               \u001b[0;32mif\u001b[0m \u001b[0mdata_handler\u001b[0m\u001b[0;34m.\u001b[0m\u001b[0mshould_sync\u001b[0m\u001b[0;34m:\u001b[0m\u001b[0;34m\u001b[0m\u001b[0;34m\u001b[0m\u001b[0m\n\u001b[1;32m   1186\u001b[0m                 \u001b[0mcontext\u001b[0m\u001b[0;34m.\u001b[0m\u001b[0masync_wait\u001b[0m\u001b[0;34m(\u001b[0m\u001b[0;34m)\u001b[0m\u001b[0;34m\u001b[0m\u001b[0;34m\u001b[0m\u001b[0m\n",
            "\u001b[0;32m/opt/conda/lib/python3.7/site-packages/tensorflow/python/eager/def_function.py\u001b[0m in \u001b[0;36m__call__\u001b[0;34m(self, *args, **kwds)\u001b[0m\n\u001b[1;32m    883\u001b[0m \u001b[0;34m\u001b[0m\u001b[0m\n\u001b[1;32m    884\u001b[0m       \u001b[0;32mwith\u001b[0m \u001b[0mOptionalXlaContext\u001b[0m\u001b[0;34m(\u001b[0m\u001b[0mself\u001b[0m\u001b[0;34m.\u001b[0m\u001b[0m_jit_compile\u001b[0m\u001b[0;34m)\u001b[0m\u001b[0;34m:\u001b[0m\u001b[0;34m\u001b[0m\u001b[0;34m\u001b[0m\u001b[0m\n\u001b[0;32m--> 885\u001b[0;31m         \u001b[0mresult\u001b[0m \u001b[0;34m=\u001b[0m \u001b[0mself\u001b[0m\u001b[0;34m.\u001b[0m\u001b[0m_call\u001b[0m\u001b[0;34m(\u001b[0m\u001b[0;34m*\u001b[0m\u001b[0margs\u001b[0m\u001b[0;34m,\u001b[0m \u001b[0;34m**\u001b[0m\u001b[0mkwds\u001b[0m\u001b[0;34m)\u001b[0m\u001b[0;34m\u001b[0m\u001b[0;34m\u001b[0m\u001b[0m\n\u001b[0m\u001b[1;32m    886\u001b[0m \u001b[0;34m\u001b[0m\u001b[0m\n\u001b[1;32m    887\u001b[0m       \u001b[0mnew_tracing_count\u001b[0m \u001b[0;34m=\u001b[0m \u001b[0mself\u001b[0m\u001b[0;34m.\u001b[0m\u001b[0mexperimental_get_tracing_count\u001b[0m\u001b[0;34m(\u001b[0m\u001b[0;34m)\u001b[0m\u001b[0;34m\u001b[0m\u001b[0;34m\u001b[0m\u001b[0m\n",
            "\u001b[0;32m/opt/conda/lib/python3.7/site-packages/tensorflow/python/eager/def_function.py\u001b[0m in \u001b[0;36m_call\u001b[0;34m(self, *args, **kwds)\u001b[0m\n\u001b[1;32m    915\u001b[0m       \u001b[0;31m# In this case we have created variables on the first call, so we run the\u001b[0m\u001b[0;34m\u001b[0m\u001b[0;34m\u001b[0m\u001b[0;34m\u001b[0m\u001b[0m\n\u001b[1;32m    916\u001b[0m       \u001b[0;31m# defunned version which is guaranteed to never create variables.\u001b[0m\u001b[0;34m\u001b[0m\u001b[0;34m\u001b[0m\u001b[0;34m\u001b[0m\u001b[0m\n\u001b[0;32m--> 917\u001b[0;31m       \u001b[0;32mreturn\u001b[0m \u001b[0mself\u001b[0m\u001b[0;34m.\u001b[0m\u001b[0m_stateless_fn\u001b[0m\u001b[0;34m(\u001b[0m\u001b[0;34m*\u001b[0m\u001b[0margs\u001b[0m\u001b[0;34m,\u001b[0m \u001b[0;34m**\u001b[0m\u001b[0mkwds\u001b[0m\u001b[0;34m)\u001b[0m  \u001b[0;31m# pylint: disable=not-callable\u001b[0m\u001b[0;34m\u001b[0m\u001b[0;34m\u001b[0m\u001b[0m\n\u001b[0m\u001b[1;32m    918\u001b[0m     \u001b[0;32melif\u001b[0m \u001b[0mself\u001b[0m\u001b[0;34m.\u001b[0m\u001b[0m_stateful_fn\u001b[0m \u001b[0;32mis\u001b[0m \u001b[0;32mnot\u001b[0m \u001b[0;32mNone\u001b[0m\u001b[0;34m:\u001b[0m\u001b[0;34m\u001b[0m\u001b[0;34m\u001b[0m\u001b[0m\n\u001b[1;32m    919\u001b[0m       \u001b[0;31m# Release the lock early so that multiple threads can perform the call\u001b[0m\u001b[0;34m\u001b[0m\u001b[0;34m\u001b[0m\u001b[0;34m\u001b[0m\u001b[0m\n",
            "\u001b[0;32m/opt/conda/lib/python3.7/site-packages/tensorflow/python/eager/function.py\u001b[0m in \u001b[0;36m__call__\u001b[0;34m(self, *args, **kwargs)\u001b[0m\n\u001b[1;32m   3038\u001b[0m        filtered_flat_args) = self._maybe_define_function(args, kwargs)\n\u001b[1;32m   3039\u001b[0m     return graph_function._call_flat(\n\u001b[0;32m-> 3040\u001b[0;31m         filtered_flat_args, captured_inputs=graph_function.captured_inputs)  # pylint: disable=protected-access\n\u001b[0m\u001b[1;32m   3041\u001b[0m \u001b[0;34m\u001b[0m\u001b[0m\n\u001b[1;32m   3042\u001b[0m   \u001b[0;34m@\u001b[0m\u001b[0mproperty\u001b[0m\u001b[0;34m\u001b[0m\u001b[0;34m\u001b[0m\u001b[0m\n",
            "\u001b[0;32m/opt/conda/lib/python3.7/site-packages/tensorflow/python/eager/function.py\u001b[0m in \u001b[0;36m_call_flat\u001b[0;34m(self, args, captured_inputs, cancellation_manager)\u001b[0m\n\u001b[1;32m   1962\u001b[0m       \u001b[0;31m# No tape is watching; skip to running the function.\u001b[0m\u001b[0;34m\u001b[0m\u001b[0;34m\u001b[0m\u001b[0;34m\u001b[0m\u001b[0m\n\u001b[1;32m   1963\u001b[0m       return self._build_call_outputs(self._inference_function.call(\n\u001b[0;32m-> 1964\u001b[0;31m           ctx, args, cancellation_manager=cancellation_manager))\n\u001b[0m\u001b[1;32m   1965\u001b[0m     forward_backward = self._select_forward_and_backward_functions(\n\u001b[1;32m   1966\u001b[0m         \u001b[0margs\u001b[0m\u001b[0;34m,\u001b[0m\u001b[0;34m\u001b[0m\u001b[0;34m\u001b[0m\u001b[0m\n",
            "\u001b[0;32m/opt/conda/lib/python3.7/site-packages/tensorflow/python/eager/function.py\u001b[0m in \u001b[0;36mcall\u001b[0;34m(self, ctx, args, cancellation_manager)\u001b[0m\n\u001b[1;32m    594\u001b[0m               \u001b[0minputs\u001b[0m\u001b[0;34m=\u001b[0m\u001b[0margs\u001b[0m\u001b[0;34m,\u001b[0m\u001b[0;34m\u001b[0m\u001b[0;34m\u001b[0m\u001b[0m\n\u001b[1;32m    595\u001b[0m               \u001b[0mattrs\u001b[0m\u001b[0;34m=\u001b[0m\u001b[0mattrs\u001b[0m\u001b[0;34m,\u001b[0m\u001b[0;34m\u001b[0m\u001b[0;34m\u001b[0m\u001b[0m\n\u001b[0;32m--> 596\u001b[0;31m               ctx=ctx)\n\u001b[0m\u001b[1;32m    597\u001b[0m         \u001b[0;32melse\u001b[0m\u001b[0;34m:\u001b[0m\u001b[0;34m\u001b[0m\u001b[0;34m\u001b[0m\u001b[0m\n\u001b[1;32m    598\u001b[0m           outputs = execute.execute_with_cancellation(\n",
            "\u001b[0;32m/opt/conda/lib/python3.7/site-packages/tensorflow/python/eager/execute.py\u001b[0m in \u001b[0;36mquick_execute\u001b[0;34m(op_name, num_outputs, inputs, attrs, ctx, name)\u001b[0m\n\u001b[1;32m     58\u001b[0m     \u001b[0mctx\u001b[0m\u001b[0;34m.\u001b[0m\u001b[0mensure_initialized\u001b[0m\u001b[0;34m(\u001b[0m\u001b[0;34m)\u001b[0m\u001b[0;34m\u001b[0m\u001b[0;34m\u001b[0m\u001b[0m\n\u001b[1;32m     59\u001b[0m     tensors = pywrap_tfe.TFE_Py_Execute(ctx._handle, device_name, op_name,\n\u001b[0;32m---> 60\u001b[0;31m                                         inputs, attrs, num_outputs)\n\u001b[0m\u001b[1;32m     61\u001b[0m   \u001b[0;32mexcept\u001b[0m \u001b[0mcore\u001b[0m\u001b[0;34m.\u001b[0m\u001b[0m_NotOkStatusException\u001b[0m \u001b[0;32mas\u001b[0m \u001b[0me\u001b[0m\u001b[0;34m:\u001b[0m\u001b[0;34m\u001b[0m\u001b[0;34m\u001b[0m\u001b[0m\n\u001b[1;32m     62\u001b[0m     \u001b[0;32mif\u001b[0m \u001b[0mname\u001b[0m \u001b[0;32mis\u001b[0m \u001b[0;32mnot\u001b[0m \u001b[0;32mNone\u001b[0m\u001b[0;34m:\u001b[0m\u001b[0;34m\u001b[0m\u001b[0;34m\u001b[0m\u001b[0m\n",
            "\u001b[0;31mKeyboardInterrupt\u001b[0m: "
          ],
          "ename": "KeyboardInterrupt",
          "evalue": "",
          "output_type": "error"
        }
      ]
    }
  ]
}