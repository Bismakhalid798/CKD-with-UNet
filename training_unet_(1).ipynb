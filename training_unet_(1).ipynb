{
  "cells": [
    {
      "cell_type": "code",
      "execution_count": null,
      "id": "803ec99b",
      "metadata": {
        "execution": {
          "iopub.execute_input": "2022-11-30T18:12:33.102533Z",
          "iopub.status.busy": "2022-11-30T18:12:33.101661Z",
          "iopub.status.idle": "2022-11-30T18:12:33.112278Z",
          "shell.execute_reply": "2022-11-30T18:12:33.111477Z"
        },
        "id": "803ec99b",
        "papermill": {
          "duration": 0.01912,
          "end_time": "2022-11-30T18:12:33.114266",
          "exception": false,
          "start_time": "2022-11-30T18:12:33.095146",
          "status": "completed"
        },
        "tags": []
      },
      "outputs": [],
      "source": [
        "path=\"/kaggle/input/kidneykits19/PNG_Slices_Segmented/PNG_Slices_Segmented/\""
      ]
    },
    {
      "cell_type": "code",
      "execution_count": null,
      "id": "270bfce8",
      "metadata": {
        "execution": {
          "iopub.execute_input": "2022-11-30T18:12:33.124209Z",
          "iopub.status.busy": "2022-11-30T18:12:33.123617Z",
          "iopub.status.idle": "2022-11-30T18:12:39.578442Z",
          "shell.execute_reply": "2022-11-30T18:12:39.577464Z"
        },
        "id": "270bfce8",
        "papermill": {
          "duration": 6.462234,
          "end_time": "2022-11-30T18:12:39.580848",
          "exception": false,
          "start_time": "2022-11-30T18:12:33.118614",
          "status": "completed"
        },
        "tags": []
      },
      "outputs": [],
      "source": [
        "import os\n",
        "from glob import glob\n",
        "from sklearn.model_selection import train_test_split\n",
        "from tensorflow.keras.layers import Conv2D, BatchNormalization, Activation, MaxPool2D, Conv2DTranspose, Concatenate, Input\n",
        "from tensorflow.keras.models import Model\n",
        "\n",
        "from tensorflow.keras.callbacks import ModelCheckpoint, CSVLogger, ReduceLROnPlateau, EarlyStopping, TensorBoard\n",
        "from tensorflow.keras.optimizers import Adam\n",
        "from tensorflow.keras.metrics import Recall, Precision,Accuracy\n",
        "\n",
        "os.environ[\"TF_CPP_MIN_LOG_LEVEL\"] = \"2\"\n",
        "import numpy as np\n",
        "import cv2\n",
        "from glob import glob\n",
        "from sklearn.utils import shuffle\n",
        "import tensorflow as tf\n",
        "H=256\n",
        "W=256\n",
        "dim=(H,W)"
      ]
    },
    {
      "cell_type": "markdown",
      "id": "4aed47ab",
      "metadata": {
        "id": "4aed47ab",
        "papermill": {
          "duration": 0.004176,
          "end_time": "2022-11-30T18:12:39.589670",
          "exception": false,
          "start_time": "2022-11-30T18:12:39.585494",
          "status": "completed"
        },
        "tags": []
      },
      "source": [
        "# DATA LOADING AND PROCESSING without any feature"
      ]
    },
    {
      "cell_type": "code",
      "execution_count": null,
      "id": "a77222a2",
      "metadata": {
        "execution": {
          "iopub.execute_input": "2022-11-30T18:12:39.600470Z",
          "iopub.status.busy": "2022-11-30T18:12:39.599480Z",
          "iopub.status.idle": "2022-11-30T18:12:39.611674Z",
          "shell.execute_reply": "2022-11-30T18:12:39.610660Z"
        },
        "id": "a77222a2",
        "papermill": {
          "duration": 0.019927,
          "end_time": "2022-11-30T18:12:39.613908",
          "exception": false,
          "start_time": "2022-11-30T18:12:39.593981",
          "status": "completed"
        },
        "tags": []
      },
      "outputs": [],
      "source": [
        "def load_data(file_path):\n",
        "    #Loading the image files\n",
        "    images = sorted(glob(f\"{file_path}/*/Images/*.png\"))\n",
        "    segmentations=sorted(glob(f\"{file_path}/*/Segmentation/*.png\"))\n",
        "    print(len(images),len(segmentations))\n",
        "\n",
        "\n",
        "  # #Spliting the data into training and testing using builtin libraries\n",
        "    split=0.3\n",
        "    split_size = int(len(images) * split)\n",
        "    train_x, valid_x = train_test_split(images, test_size=split_size, random_state=42)\n",
        "    train_y, valid_y = train_test_split(segmentations, test_size=split_size, random_state=42)\n",
        "\n",
        "    return (train_x, train_y), (valid_x, valid_y)\n",
        " \n",
        "\n",
        "\n",
        "def read_image(path):\n",
        "    path = path.decode()\n",
        "    x = cv2.imread(path, cv2.IMREAD_COLOR)\n",
        "    x=cv2.resize(x, dim)\n",
        "    x = x/255.0\n",
        "    x = x.astype(np.float32)\n",
        "    return x\n",
        "\n",
        "def read_mask(path):\n",
        "    path = path.decode()\n",
        "    x = cv2.imread(path, cv2.IMREAD_GRAYSCALE)\n",
        "    x=cv2.resize(x, dim)\n",
        "    x = x/255.0\n",
        "    x = x > 0.5\n",
        "    x = x.astype(np.float32)\n",
        "    x = np.expand_dims(x, axis=-1)\n",
        "    return x\n",
        "\n",
        "def shuffling(x, y):\n",
        "    x, y = shuffle(x, y, random_state=42)\n",
        "    return x, y\n",
        "\n",
        "def tf_parse(x, y):\n",
        "    def _parse(x, y):\n",
        "        x = read_image(x)\n",
        "        y = read_mask(y)\n",
        "        return x, y\n",
        "\n",
        "    x, y = tf.numpy_function(_parse, [x, y], [tf.float32, tf.float32])\n",
        "    x.set_shape([H, W, 3])\n",
        "    y.set_shape([H, W, 1])\n",
        "    return x, y\n",
        "\n",
        "def tf_dataset(x, y, batch=8):\n",
        "    dataset = tf.data.Dataset.from_tensor_slices((x, y))\n",
        "    dataset = dataset.map(tf_parse)\n",
        "    dataset = dataset.batch(batch)\n",
        "    dataset = dataset.prefetch(10)\n",
        "    return dataset\n"
      ]
    },
    {
      "cell_type": "code",
      "execution_count": null,
      "id": "c86e7501",
      "metadata": {
        "execution": {
          "iopub.execute_input": "2022-11-30T18:12:39.623490Z",
          "iopub.status.busy": "2022-11-30T18:12:39.623222Z",
          "iopub.status.idle": "2022-11-30T18:13:01.959808Z",
          "shell.execute_reply": "2022-11-30T18:13:01.958565Z"
        },
        "id": "c86e7501",
        "outputId": "2ecb9fe4-8dab-47c1-e5b5-066ca0a96eca",
        "papermill": {
          "duration": 22.34415,
          "end_time": "2022-11-30T18:13:01.962370",
          "exception": false,
          "start_time": "2022-11-30T18:12:39.618220",
          "status": "completed"
        },
        "tags": []
      },
      "outputs": [
        {
          "name": "stdout",
          "output_type": "stream",
          "text": [
            "45079 45079\n",
            "31556 31556\n",
            "13523 13523\n"
          ]
        }
      ],
      "source": [
        "(train_x, train_y), (valid_x, valid_y) = load_data(path)\n",
        "print(len(train_x),len(train_y))\n",
        "print(len(valid_x),len(valid_y))\n",
        "train_x, train_y = shuffling(train_x, train_y)\n",
        "\n"
      ]
    },
    {
      "cell_type": "code",
      "execution_count": null,
      "id": "67af25fe",
      "metadata": {
        "execution": {
          "iopub.execute_input": "2022-11-30T18:13:01.972794Z",
          "iopub.status.busy": "2022-11-30T18:13:01.972475Z",
          "iopub.status.idle": "2022-11-30T18:13:05.244902Z",
          "shell.execute_reply": "2022-11-30T18:13:05.243955Z"
        },
        "id": "67af25fe",
        "papermill": {
          "duration": 3.280307,
          "end_time": "2022-11-30T18:13:05.247345",
          "exception": false,
          "start_time": "2022-11-30T18:13:01.967038",
          "status": "completed"
        },
        "tags": []
      },
      "outputs": [],
      "source": [
        "batch_size = 32\n",
        "train_dataset = tf_dataset(train_x, train_y, batch=batch_size)\n",
        "valid_dataset = tf_dataset(valid_x, valid_y, batch=batch_size)"
      ]
    },
    {
      "cell_type": "markdown",
      "id": "49fde8d6",
      "metadata": {
        "id": "49fde8d6",
        "papermill": {
          "duration": 0.00418,
          "end_time": "2022-11-30T18:13:05.256195",
          "exception": false,
          "start_time": "2022-11-30T18:13:05.252015",
          "status": "completed"
        },
        "tags": []
      },
      "source": [
        "# DEFINING METRICES"
      ]
    },
    {
      "cell_type": "markdown",
      "source": [
        "![download.png](data:image/png;base64,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)"
      ],
      "metadata": {
        "id": "9wpetEO7Gzo3"
      },
      "id": "9wpetEO7Gzo3"
    },
    {
      "cell_type": "markdown",
      "source": [
        "![dice.png](data:image/png;base64,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)"
      ],
      "metadata": {
        "id": "NpdmaubeG7kg"
      },
      "id": "NpdmaubeG7kg"
    },
    {
      "cell_type": "code",
      "execution_count": null,
      "id": "b33d5b0f",
      "metadata": {
        "execution": {
          "iopub.execute_input": "2022-11-30T18:13:05.266634Z",
          "iopub.status.busy": "2022-11-30T18:13:05.265741Z",
          "iopub.status.idle": "2022-11-30T18:13:05.274291Z",
          "shell.execute_reply": "2022-11-30T18:13:05.273408Z"
        },
        "id": "b33d5b0f",
        "papermill": {
          "duration": 0.015882,
          "end_time": "2022-11-30T18:13:05.276356",
          "exception": false,
          "start_time": "2022-11-30T18:13:05.260474",
          "status": "completed"
        },
        "tags": []
      },
      "outputs": [],
      "source": [
        "#Metrices\n",
        "import numpy as np\n",
        "import tensorflow as tf\n",
        "from tensorflow.keras import backend as K\n",
        "\n",
        "def iou(y_true, y_pred):\n",
        "    def f(y_true, y_pred):\n",
        "        intersection = (y_true * y_pred).sum()\n",
        "        union = y_true.sum() + y_pred.sum() - intersection\n",
        "        x = (intersection + 1e-15) / (union + 1e-15)\n",
        "        x = x.astype(np.float32)\n",
        "        return x\n",
        "    return tf.numpy_function(f, [y_true, y_pred], tf.float32)\n",
        "\n",
        "smooth = 1e-15\n",
        "def dice_coef(y_true, y_pred):\n",
        "    y_true = tf.keras.layers.Flatten()(y_true)\n",
        "    y_pred = tf.keras.layers.Flatten()(y_pred)\n",
        "    intersection = tf.reduce_sum(y_true * y_pred)\n",
        "    return (2.0 * intersection + smooth) / (tf.reduce_sum(y_true) + tf.reduce_sum(y_pred) + smooth)\n",
        "\n",
        "def dice_loss(y_true, y_pred):\n",
        "    return 1.0 - dice_coef(y_true, y_pred)"
      ]
    },
    {
      "cell_type": "code",
      "execution_count": null,
      "id": "36e677f7",
      "metadata": {
        "id": "36e677f7",
        "papermill": {
          "duration": 0.004141,
          "end_time": "2022-11-30T18:13:05.284785",
          "exception": false,
          "start_time": "2022-11-30T18:13:05.280644",
          "status": "completed"
        },
        "tags": []
      },
      "outputs": [],
      "source": []
    },
    {
      "cell_type": "markdown",
      "id": "f3a5403f",
      "metadata": {
        "id": "f3a5403f",
        "papermill": {
          "duration": 0.004474,
          "end_time": "2022-11-30T18:13:05.293666",
          "exception": false,
          "start_time": "2022-11-30T18:13:05.289192",
          "status": "completed"
        },
        "tags": []
      },
      "source": [
        "# BUILDING UNET MODEL"
      ]
    },
    {
      "cell_type": "code",
      "execution_count": null,
      "id": "c9658365",
      "metadata": {
        "execution": {
          "iopub.execute_input": "2022-11-30T18:13:05.304047Z",
          "iopub.status.busy": "2022-11-30T18:13:05.303434Z",
          "iopub.status.idle": "2022-11-30T18:13:05.313451Z",
          "shell.execute_reply": "2022-11-30T18:13:05.312600Z"
        },
        "id": "c9658365",
        "papermill": {
          "duration": 0.017473,
          "end_time": "2022-11-30T18:13:05.315461",
          "exception": false,
          "start_time": "2022-11-30T18:13:05.297988",
          "status": "completed"
        },
        "tags": []
      },
      "outputs": [],
      "source": [
        "#Defining the structure of the model\n",
        "\n",
        "#This convolution part will also be included in encoder and decoder part of the network\n",
        "def Conv_Block(input,num_of_filter):\n",
        "    x=Conv2D(num_of_filter,3,padding=\"same\")(input)\n",
        "    x=BatchNormalization()(x)\n",
        "    x=Activation('ReLU')(x)\n",
        "\n",
        "    x=Conv2D(num_of_filter,3,padding=\"same\")(input)\n",
        "    x=BatchNormalization()(x)\n",
        "    x=Activation('ReLU')(x)\n",
        "    return x\n",
        "\n",
        "\n",
        "def Encoder(input,num_of_filter):\n",
        "    x = Conv_Block(input, num_of_filter) #Skip connection\n",
        "    p = MaxPool2D((2, 2))(x)  #Feature selection\n",
        "    return x, p\n",
        "\n",
        "def Decoder(input, skip_features, num_of_filter):\n",
        "    x = Conv2DTranspose(num_of_filter, (2, 2), strides=2, padding=\"same\")(input)\n",
        "    x = Concatenate()([x, skip_features])\n",
        "    x = Conv_Block(x, num_of_filter)\n",
        "    return x\n",
        "\n",
        "\n",
        "\n",
        "def UNET_Build(input_shape):\n",
        "    inputs=Input(input_shape)\n",
        "\n",
        "  #as you go down in the encoder,resolution decreases , number of filters doubles\n",
        "    s1,p1=Encoder(inputs,32)\n",
        "    s2,p2=Encoder(p1,64)\n",
        "    s3,p3=Encoder(p2,128)\n",
        "    s4,p4=Encoder(p3,256)\n",
        "\n",
        "    b1=Conv_Block(p4,512)\n",
        "\n",
        "    d1 = Decoder(b1, s4, 256)\n",
        "    d2 = Decoder(d1, s3, 128)\n",
        "    d3 = Decoder(d2, s2, 64)\n",
        "    d4 = Decoder(d3, s1, 32)\n",
        "\n",
        "    outputs = Conv2D(1, 1, padding=\"same\", activation=\"sigmoid\")(d4)  #our data is in grayscale, gives 0,1 output\n",
        "\n",
        "    model = Model(inputs, outputs, name=\"U-Net\")\n",
        "    return model  "
      ]
    },
    {
      "cell_type": "code",
      "execution_count": null,
      "id": "16cdb6bd",
      "metadata": {
        "execution": {
          "iopub.execute_input": "2022-11-30T18:13:05.325642Z",
          "iopub.status.busy": "2022-11-30T18:13:05.324917Z",
          "iopub.status.idle": "2022-11-30T18:13:05.747686Z",
          "shell.execute_reply": "2022-11-30T18:13:05.746707Z"
        },
        "id": "16cdb6bd",
        "outputId": "58c96351-ede9-41d4-c527-561f3bb46e38",
        "papermill": {
          "duration": 0.431376,
          "end_time": "2022-11-30T18:13:05.751155",
          "exception": false,
          "start_time": "2022-11-30T18:13:05.319779",
          "status": "completed"
        },
        "tags": []
      },
      "outputs": [
        {
          "name": "stdout",
          "output_type": "stream",
          "text": [
            "Model: \"U-Net\"\n",
            "__________________________________________________________________________________________________\n",
            "Layer (type)                    Output Shape         Param #     Connected to                     \n",
            "==================================================================================================\n",
            "input_1 (InputLayer)            [(None, 256, 256, 3) 0                                            \n",
            "__________________________________________________________________________________________________\n",
            "conv2d_1 (Conv2D)               (None, 256, 256, 32) 896         input_1[0][0]                    \n",
            "__________________________________________________________________________________________________\n",
            "batch_normalization_1 (BatchNor (None, 256, 256, 32) 128         conv2d_1[0][0]                   \n",
            "__________________________________________________________________________________________________\n",
            "activation_1 (Activation)       (None, 256, 256, 32) 0           batch_normalization_1[0][0]      \n",
            "__________________________________________________________________________________________________\n",
            "max_pooling2d (MaxPooling2D)    (None, 128, 128, 32) 0           activation_1[0][0]               \n",
            "__________________________________________________________________________________________________\n",
            "conv2d_3 (Conv2D)               (None, 128, 128, 64) 18496       max_pooling2d[0][0]              \n",
            "__________________________________________________________________________________________________\n",
            "batch_normalization_3 (BatchNor (None, 128, 128, 64) 256         conv2d_3[0][0]                   \n",
            "__________________________________________________________________________________________________\n",
            "activation_3 (Activation)       (None, 128, 128, 64) 0           batch_normalization_3[0][0]      \n",
            "__________________________________________________________________________________________________\n",
            "max_pooling2d_1 (MaxPooling2D)  (None, 64, 64, 64)   0           activation_3[0][0]               \n",
            "__________________________________________________________________________________________________\n",
            "conv2d_5 (Conv2D)               (None, 64, 64, 128)  73856       max_pooling2d_1[0][0]            \n",
            "__________________________________________________________________________________________________\n",
            "batch_normalization_5 (BatchNor (None, 64, 64, 128)  512         conv2d_5[0][0]                   \n",
            "__________________________________________________________________________________________________\n",
            "activation_5 (Activation)       (None, 64, 64, 128)  0           batch_normalization_5[0][0]      \n",
            "__________________________________________________________________________________________________\n",
            "max_pooling2d_2 (MaxPooling2D)  (None, 32, 32, 128)  0           activation_5[0][0]               \n",
            "__________________________________________________________________________________________________\n",
            "conv2d_7 (Conv2D)               (None, 32, 32, 256)  295168      max_pooling2d_2[0][0]            \n",
            "__________________________________________________________________________________________________\n",
            "batch_normalization_7 (BatchNor (None, 32, 32, 256)  1024        conv2d_7[0][0]                   \n",
            "__________________________________________________________________________________________________\n",
            "activation_7 (Activation)       (None, 32, 32, 256)  0           batch_normalization_7[0][0]      \n",
            "__________________________________________________________________________________________________\n",
            "max_pooling2d_3 (MaxPooling2D)  (None, 16, 16, 256)  0           activation_7[0][0]               \n",
            "__________________________________________________________________________________________________\n",
            "conv2d_9 (Conv2D)               (None, 16, 16, 512)  1180160     max_pooling2d_3[0][0]            \n",
            "__________________________________________________________________________________________________\n",
            "batch_normalization_9 (BatchNor (None, 16, 16, 512)  2048        conv2d_9[0][0]                   \n",
            "__________________________________________________________________________________________________\n",
            "activation_9 (Activation)       (None, 16, 16, 512)  0           batch_normalization_9[0][0]      \n",
            "__________________________________________________________________________________________________\n",
            "conv2d_transpose (Conv2DTranspo (None, 32, 32, 256)  524544      activation_9[0][0]               \n",
            "__________________________________________________________________________________________________\n",
            "concatenate (Concatenate)       (None, 32, 32, 512)  0           conv2d_transpose[0][0]           \n",
            "                                                                 activation_7[0][0]               \n",
            "__________________________________________________________________________________________________\n",
            "conv2d_11 (Conv2D)              (None, 32, 32, 256)  1179904     concatenate[0][0]                \n",
            "__________________________________________________________________________________________________\n",
            "batch_normalization_11 (BatchNo (None, 32, 32, 256)  1024        conv2d_11[0][0]                  \n",
            "__________________________________________________________________________________________________\n",
            "activation_11 (Activation)      (None, 32, 32, 256)  0           batch_normalization_11[0][0]     \n",
            "__________________________________________________________________________________________________\n",
            "conv2d_transpose_1 (Conv2DTrans (None, 64, 64, 128)  131200      activation_11[0][0]              \n",
            "__________________________________________________________________________________________________\n",
            "concatenate_1 (Concatenate)     (None, 64, 64, 256)  0           conv2d_transpose_1[0][0]         \n",
            "                                                                 activation_5[0][0]               \n",
            "__________________________________________________________________________________________________\n",
            "conv2d_13 (Conv2D)              (None, 64, 64, 128)  295040      concatenate_1[0][0]              \n",
            "__________________________________________________________________________________________________\n",
            "batch_normalization_13 (BatchNo (None, 64, 64, 128)  512         conv2d_13[0][0]                  \n",
            "__________________________________________________________________________________________________\n",
            "activation_13 (Activation)      (None, 64, 64, 128)  0           batch_normalization_13[0][0]     \n",
            "__________________________________________________________________________________________________\n",
            "conv2d_transpose_2 (Conv2DTrans (None, 128, 128, 64) 32832       activation_13[0][0]              \n",
            "__________________________________________________________________________________________________\n",
            "concatenate_2 (Concatenate)     (None, 128, 128, 128 0           conv2d_transpose_2[0][0]         \n",
            "                                                                 activation_3[0][0]               \n",
            "__________________________________________________________________________________________________\n",
            "conv2d_15 (Conv2D)              (None, 128, 128, 64) 73792       concatenate_2[0][0]              \n",
            "__________________________________________________________________________________________________\n",
            "batch_normalization_15 (BatchNo (None, 128, 128, 64) 256         conv2d_15[0][0]                  \n",
            "__________________________________________________________________________________________________\n",
            "activation_15 (Activation)      (None, 128, 128, 64) 0           batch_normalization_15[0][0]     \n",
            "__________________________________________________________________________________________________\n",
            "conv2d_transpose_3 (Conv2DTrans (None, 256, 256, 32) 8224        activation_15[0][0]              \n",
            "__________________________________________________________________________________________________\n",
            "concatenate_3 (Concatenate)     (None, 256, 256, 64) 0           conv2d_transpose_3[0][0]         \n",
            "                                                                 activation_1[0][0]               \n",
            "__________________________________________________________________________________________________\n",
            "conv2d_17 (Conv2D)              (None, 256, 256, 32) 18464       concatenate_3[0][0]              \n",
            "__________________________________________________________________________________________________\n",
            "batch_normalization_17 (BatchNo (None, 256, 256, 32) 128         conv2d_17[0][0]                  \n",
            "__________________________________________________________________________________________________\n",
            "activation_17 (Activation)      (None, 256, 256, 32) 0           batch_normalization_17[0][0]     \n",
            "__________________________________________________________________________________________________\n",
            "conv2d_18 (Conv2D)              (None, 256, 256, 1)  33          activation_17[0][0]              \n",
            "==================================================================================================\n",
            "Total params: 3,838,497\n",
            "Trainable params: 3,835,553\n",
            "Non-trainable params: 2,944\n",
            "__________________________________________________________________________________________________\n"
          ]
        }
      ],
      "source": [
        "input_shape = (256, 256, 3)\n",
        "model = UNET_Build(input_shape)\n",
        "model.summary()"
      ]
    },
    {
      "cell_type": "markdown",
      "id": "a158c8c9",
      "metadata": {
        "id": "a158c8c9",
        "papermill": {
          "duration": 0.004468,
          "end_time": "2022-11-30T18:13:05.760386",
          "exception": false,
          "start_time": "2022-11-30T18:13:05.755918",
          "status": "completed"
        },
        "tags": []
      },
      "source": []
    },
    {
      "cell_type": "markdown",
      "id": "b6a178bc",
      "metadata": {
        "id": "b6a178bc",
        "papermill": {
          "duration": 0.004316,
          "end_time": "2022-11-30T18:13:05.769316",
          "exception": false,
          "start_time": "2022-11-30T18:13:05.765000",
          "status": "completed"
        },
        "tags": []
      },
      "source": [
        "# MODEL TRAINING"
      ]
    },
    {
      "cell_type": "code",
      "execution_count": null,
      "id": "63588074",
      "metadata": {
        "execution": {
          "iopub.execute_input": "2022-11-30T18:13:05.780367Z",
          "iopub.status.busy": "2022-11-30T18:13:05.780072Z",
          "iopub.status.idle": "2022-11-30T18:13:05.785220Z",
          "shell.execute_reply": "2022-11-30T18:13:05.784183Z"
        },
        "id": "63588074",
        "papermill": {
          "duration": 0.013875,
          "end_time": "2022-11-30T18:13:05.787591",
          "exception": false,
          "start_time": "2022-11-30T18:13:05.773716",
          "status": "completed"
        },
        "tags": []
      },
      "outputs": [],
      "source": [
        "np.random.seed(42)\n",
        "tf.random.set_seed(42)\n",
        "batch_size = 32\n",
        "lr = 0.01\n",
        "num_epochs = 15"
      ]
    },
    {
      "cell_type": "code",
      "execution_count": null,
      "id": "bd946c2f",
      "metadata": {
        "execution": {
          "iopub.execute_input": "2022-11-30T18:13:05.798129Z",
          "iopub.status.busy": "2022-11-30T18:13:05.797285Z",
          "iopub.status.idle": "2022-11-30T18:13:06.177680Z",
          "shell.execute_reply": "2022-11-30T18:13:06.176771Z"
        },
        "id": "bd946c2f",
        "papermill": {
          "duration": 0.38792,
          "end_time": "2022-11-30T18:13:06.179984",
          "exception": false,
          "start_time": "2022-11-30T18:13:05.792064",
          "status": "completed"
        },
        "tags": []
      },
      "outputs": [],
      "source": [
        "model = UNET_Build((H, W, 3))\n",
        "metrics = [dice_coef, iou, Recall(),Precision()]\n",
        "model.compile(loss=dice_loss, optimizer=Adam(lr), metrics=metrics)"
      ]
    },
    {
      "cell_type": "code",
      "execution_count": null,
      "id": "1602d139",
      "metadata": {
        "execution": {
          "iopub.execute_input": "2022-11-30T18:13:06.190878Z",
          "iopub.status.busy": "2022-11-30T18:13:06.190555Z",
          "iopub.status.idle": "2022-11-30T18:13:06.554897Z",
          "shell.execute_reply": "2022-11-30T18:13:06.553828Z"
        },
        "id": "1602d139",
        "papermill": {
          "duration": 0.373169,
          "end_time": "2022-11-30T18:13:06.557819",
          "exception": false,
          "start_time": "2022-11-30T18:13:06.184650",
          "status": "completed"
        },
        "tags": []
      },
      "outputs": [],
      "source": [
        "model_weights = \"/kaggle/working/model_UNET.h5\"\n",
        "csv_weights = \"/kaggle/working/datamodel1.csv\"\n",
        "\n",
        "callbacks = [\n",
        "    ModelCheckpoint( model_weights,verbose=1, save_best_only=True),\n",
        "    ReduceLROnPlateau(monitor='val_loss', factor=0.00001, patience=2, min_lr=1e-7, verbose=1),\n",
        "    TensorBoard(),\n",
        "    CSVLogger(csv_weights),\n",
        "    EarlyStopping(monitor='val_loss', patience=3, restore_best_weights=False),\n",
        "    ]"
      ]
    },
    {
      "cell_type": "code",
      "execution_count": null,
      "id": "1afbde06",
      "metadata": {
        "execution": {
          "iopub.execute_input": "2022-11-30T18:13:06.569790Z",
          "iopub.status.busy": "2022-11-30T18:13:06.569436Z",
          "iopub.status.idle": "2022-11-30T20:02:07.550476Z",
          "shell.execute_reply": "2022-11-30T20:02:07.549466Z"
        },
        "id": "1afbde06",
        "outputId": "cfcea0bb-fcbe-428e-acbf-fb29917c3ba3",
        "papermill": {
          "duration": 6540.98972,
          "end_time": "2022-11-30T20:02:07.552907",
          "exception": false,
          "start_time": "2022-11-30T18:13:06.563187",
          "status": "completed"
        },
        "tags": []
      },
      "outputs": [
        {
          "name": "stdout",
          "output_type": "stream",
          "text": [
            "Epoch 1/15\n",
            "987/987 [==============================] - 819s 819ms/step - loss: 0.2709 - dice_coef: 0.7293 - iou: 0.5974 - recall: 0.7190 - precision: 0.4766 - val_loss: 0.9552 - val_dice_coef: 0.0447 - val_iou: 0.0235 - val_recall: 0.0228 - val_precision: 0.9946\n",
            "\n",
            "Epoch 00001: val_loss improved from inf to 0.95523, saving model to /kaggle/working/model_UNET.h5\n",
            "Epoch 2/15\n",
            "987/987 [==============================] - 405s 411ms/step - loss: 0.0965 - dice_coef: 0.9036 - iou: 0.8278 - recall: 0.8786 - precision: 0.9320 - val_loss: 0.0643 - val_dice_coef: 0.9357 - val_iou: 0.8807 - val_recall: 0.9378 - val_precision: 0.9366\n",
            "\n",
            "Epoch 00002: val_loss improved from 0.95523 to 0.06432, saving model to /kaggle/working/model_UNET.h5\n",
            "Epoch 3/15\n",
            "987/987 [==============================] - 413s 419ms/step - loss: 0.0581 - dice_coef: 0.9419 - iou: 0.8919 - recall: 0.9311 - precision: 0.9556 - val_loss: 0.1901 - val_dice_coef: 0.8099 - val_iou: 0.6842 - val_recall: 0.7731 - val_precision: 0.8540\n",
            "\n",
            "Epoch 00003: val_loss did not improve from 0.06432\n",
            "Epoch 4/15\n",
            "987/987 [==============================] - 372s 377ms/step - loss: 0.0414 - dice_coef: 0.9587 - iou: 0.9213 - recall: 0.9521 - precision: 0.9664 - val_loss: 0.0522 - val_dice_coef: 0.9478 - val_iou: 0.9018 - val_recall: 0.9633 - val_precision: 0.9360\n",
            "\n",
            "Epoch 00004: val_loss improved from 0.06432 to 0.05225, saving model to /kaggle/working/model_UNET.h5\n",
            "Epoch 5/15\n",
            "987/987 [==============================] - 403s 408ms/step - loss: 0.0337 - dice_coef: 0.9663 - iou: 0.9352 - recall: 0.9619 - precision: 0.9716 - val_loss: 0.0555 - val_dice_coef: 0.9446 - val_iou: 0.8962 - val_recall: 0.9469 - val_precision: 0.9445\n",
            "\n",
            "Epoch 00005: val_loss did not improve from 0.05225\n",
            "Epoch 6/15\n",
            "987/987 [==============================] - 402s 408ms/step - loss: 0.0315 - dice_coef: 0.9685 - iou: 0.9393 - recall: 0.9652 - precision: 0.9727 - val_loss: 0.0326 - val_dice_coef: 0.9674 - val_iou: 0.9373 - val_recall: 0.9642 - val_precision: 0.9709\n",
            "\n",
            "Epoch 00006: val_loss improved from 0.05225 to 0.03263, saving model to /kaggle/working/model_UNET.h5\n",
            "Epoch 7/15\n",
            "987/987 [==============================] - 369s 374ms/step - loss: 0.0290 - dice_coef: 0.9710 - iou: 0.9440 - recall: 0.9683 - precision: 0.9740 - val_loss: 0.0825 - val_dice_coef: 0.9174 - val_iou: 0.8489 - val_recall: 0.9590 - val_precision: 0.8857\n",
            "\n",
            "Epoch 00007: val_loss did not improve from 0.03263\n",
            "Epoch 8/15\n",
            "987/987 [==============================] - 407s 413ms/step - loss: 0.0267 - dice_coef: 0.9733 - iou: 0.9483 - recall: 0.9711 - precision: 0.9758 - val_loss: 0.0990 - val_dice_coef: 0.9010 - val_iou: 0.8231 - val_recall: 0.8504 - val_precision: 0.9573\n",
            "\n",
            "Epoch 00008: val_loss did not improve from 0.03263\n",
            "\n",
            "Epoch 00008: ReduceLROnPlateau reducing learning rate to 1e-07.\n",
            "Epoch 9/15\n",
            "987/987 [==============================] - 407s 412ms/step - loss: 0.0231 - dice_coef: 0.9769 - iou: 0.9551 - recall: 0.9720 - precision: 0.9818 - val_loss: 0.0279 - val_dice_coef: 0.9721 - val_iou: 0.9463 - val_recall: 0.9633 - val_precision: 0.9812\n",
            "\n",
            "Epoch 00009: val_loss improved from 0.03263 to 0.02792, saving model to /kaggle/working/model_UNET.h5\n",
            "Epoch 10/15\n",
            "987/987 [==============================] - 370s 375ms/step - loss: 0.0230 - dice_coef: 0.9770 - iou: 0.9551 - recall: 0.9721 - precision: 0.9818 - val_loss: 0.0279 - val_dice_coef: 0.9721 - val_iou: 0.9464 - val_recall: 0.9634 - val_precision: 0.9812\n",
            "\n",
            "Epoch 00010: val_loss improved from 0.02792 to 0.02788, saving model to /kaggle/working/model_UNET.h5\n",
            "Epoch 11/15\n",
            "987/987 [==============================] - 368s 373ms/step - loss: 0.0230 - dice_coef: 0.9770 - iou: 0.9552 - recall: 0.9722 - precision: 0.9818 - val_loss: 0.0278 - val_dice_coef: 0.9722 - val_iou: 0.9464 - val_recall: 0.9635 - val_precision: 0.9811\n",
            "\n",
            "Epoch 00011: val_loss improved from 0.02788 to 0.02784, saving model to /kaggle/working/model_UNET.h5\n",
            "Epoch 12/15\n",
            "987/987 [==============================] - 409s 414ms/step - loss: 0.0230 - dice_coef: 0.9770 - iou: 0.9552 - recall: 0.9723 - precision: 0.9817 - val_loss: 0.0278 - val_dice_coef: 0.9722 - val_iou: 0.9465 - val_recall: 0.9636 - val_precision: 0.9811\n",
            "\n",
            "Epoch 00012: val_loss improved from 0.02784 to 0.02780, saving model to /kaggle/working/model_UNET.h5\n",
            "Epoch 13/15\n",
            "987/987 [==============================] - 368s 372ms/step - loss: 0.0230 - dice_coef: 0.9771 - iou: 0.9553 - recall: 0.9724 - precision: 0.9817 - val_loss: 0.0278 - val_dice_coef: 0.9723 - val_iou: 0.9466 - val_recall: 0.9637 - val_precision: 0.9811\n",
            "\n",
            "Epoch 00013: val_loss improved from 0.02780 to 0.02776, saving model to /kaggle/working/model_UNET.h5\n",
            "Epoch 14/15\n",
            "987/987 [==============================] - 405s 410ms/step - loss: 0.0229 - dice_coef: 0.9771 - iou: 0.9553 - recall: 0.9724 - precision: 0.9817 - val_loss: 0.0277 - val_dice_coef: 0.9723 - val_iou: 0.9467 - val_recall: 0.9638 - val_precision: 0.9811\n",
            "\n",
            "Epoch 00014: val_loss improved from 0.02776 to 0.02772, saving model to /kaggle/working/model_UNET.h5\n",
            "Epoch 15/15\n",
            "987/987 [==============================] - 408s 414ms/step - loss: 0.0229 - dice_coef: 0.9771 - iou: 0.9554 - recall: 0.9725 - precision: 0.9817 - val_loss: 0.0277 - val_dice_coef: 0.9723 - val_iou: 0.9467 - val_recall: 0.9639 - val_precision: 0.9810\n",
            "\n",
            "Epoch 00015: val_loss improved from 0.02772 to 0.02768, saving model to /kaggle/working/model_UNET.h5\n"
          ]
        }
      ],
      "source": [
        "with tf.device('/GPU:0'):\n",
        "    model.fit(train_dataset,epochs=num_epochs,validation_data=valid_dataset,callbacks=callbacks,shuffle=False )"
      ]
    },
    {
      "cell_type": "markdown",
      "id": "e159e6f6",
      "metadata": {
        "execution": {
          "iopub.execute_input": "2022-11-04T23:42:22.296848Z",
          "iopub.status.busy": "2022-11-04T23:42:22.296488Z",
          "iopub.status.idle": "2022-11-04T23:42:22.302099Z",
          "shell.execute_reply": "2022-11-04T23:42:22.300926Z",
          "shell.execute_reply.started": "2022-11-04T23:42:22.296817Z"
        },
        "id": "e159e6f6",
        "papermill": {
          "duration": 0.780583,
          "end_time": "2022-11-30T20:02:09.177197",
          "exception": false,
          "start_time": "2022-11-30T20:02:08.396614",
          "status": "completed"
        },
        "tags": []
      },
      "source": []
    },
    {
      "cell_type": "code",
      "execution_count": null,
      "id": "7ea1dc1f",
      "metadata": {
        "execution": {
          "iopub.execute_input": "2022-11-30T20:02:10.788507Z",
          "iopub.status.busy": "2022-11-30T20:02:10.788136Z",
          "iopub.status.idle": "2022-11-30T20:02:10.792724Z",
          "shell.execute_reply": "2022-11-30T20:02:10.791678Z"
        },
        "papermill": {
          "duration": 0.787584,
          "end_time": "2022-11-30T20:02:10.795181",
          "exception": false,
          "start_time": "2022-11-30T20:02:10.007597",
          "status": "completed"
        },
        "tags": [],
        "id": "7ea1dc1f"
      },
      "outputs": [],
      "source": [
        "# os.remove(\"/kaggle/working/model_UNET.h5\")"
      ]
    },
    {
      "cell_type": "code",
      "execution_count": null,
      "id": "b5866eb6",
      "metadata": {
        "execution": {
          "iopub.execute_input": "2022-11-30T20:02:12.577463Z",
          "iopub.status.busy": "2022-11-30T20:02:12.577024Z",
          "iopub.status.idle": "2022-11-30T20:02:12.592145Z",
          "shell.execute_reply": "2022-11-30T20:02:12.589504Z"
        },
        "papermill": {
          "duration": 0.960891,
          "end_time": "2022-11-30T20:02:12.594472",
          "exception": false,
          "start_time": "2022-11-30T20:02:11.633581",
          "status": "completed"
        },
        "tags": [],
        "id": "b5866eb6",
        "outputId": "74b7af6c-9764-40e4-ca98-a8695f72f394"
      },
      "outputs": [
        {
          "data": {
            "text/html": [
              "Path (<tt>data_model1.csv</tt>) doesn't exist. It may still be in the process of being generated, or you may have the incorrect path."
            ],
            "text/plain": [
              "/kaggle/working/data_model1.csv"
            ]
          },
          "execution_count": 14,
          "metadata": {},
          "output_type": "execute_result"
        }
      ],
      "source": [
        "\n",
        "os.chdir(r'/kaggle/working')\n",
        "from IPython.display import FileLink\n",
        "\n",
        "# FileLink(r'model.h5')\n",
        "FileLink(r'data_model1.csv')"
      ]
    }
  ],
  "metadata": {
    "kernelspec": {
      "display_name": "Python 3",
      "language": "python",
      "name": "python3"
    },
    "language_info": {
      "codemirror_mode": {
        "name": "ipython",
        "version": 3
      },
      "file_extension": ".py",
      "mimetype": "text/x-python",
      "name": "python",
      "nbconvert_exporter": "python",
      "pygments_lexer": "ipython3",
      "version": "3.7.12"
    },
    "papermill": {
      "default_parameters": {},
      "duration": 6592.620867,
      "end_time": "2022-11-30T20:02:17.434857",
      "environment_variables": {},
      "exception": null,
      "input_path": "__notebook__.ipynb",
      "output_path": "__notebook__.ipynb",
      "parameters": {},
      "start_time": "2022-11-30T18:12:24.813990",
      "version": "2.3.4"
    },
    "colab": {
      "provenance": []
    }
  },
  "nbformat": 4,
  "nbformat_minor": 5
}